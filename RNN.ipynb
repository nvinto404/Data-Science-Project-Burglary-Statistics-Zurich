{
 "cells": [
  {
   "cell_type": "markdown",
   "metadata": {},
   "source": [
    "### RNN \n",
    "Das RNN wird verwendet, um die zeitlichen Abhängigkeiten in den Daten zu berücksichtigen und eine Vorhersage für die absoluten aber auch kategorischen Kriminalitätsrate zu treffen. Es ist besonders nützlich, wenn die Merkmale über eine Zeitreihe vorliegen, da es in der Lage ist, vergangene Informationen zu speichern und zu nutzen, um zukünftige Entwicklungen vorherzusagen."
   ]
  },
  {
   "cell_type": "code",
   "execution_count": 1,
   "metadata": {},
   "outputs": [
    {
     "name": "stdout",
     "output_type": "stream",
     "text": [
      "Kriminalitätsrisiko\n",
      "niedrig    1899\n",
      "mittel      137\n",
      "hoch         23\n",
      "Name: count, dtype: int64\n"
     ]
    }
   ],
   "source": [
    "import numpy as np\n",
    "import pandas as pd\n",
    "from sklearn.calibration import LabelEncoder\n",
    "from sklearn.metrics import mean_squared_error    \n",
    "import tensorflow as tf\n",
    "from sklearn.model_selection import train_test_split\n",
    "from sklearn.preprocessing import MinMaxScaler\n",
    "from tensorflow.keras.models import Sequential\n",
    "from tensorflow.keras.layers import SimpleRNN, Dense\n",
    "import os\n",
    "import matplotlib.pyplot as plt\n",
    "from keras.utils import to_categorical\n",
    "\n",
    "directory = 'Cleaned_CSV_files'\n",
    "current_directory = os.getcwd()\n",
    "csv_path = os.path.join(current_directory, directory, \"EDA.csv\")\n",
    "df = pd.read_csv(csv_path, sep=',')\n",
    "\n",
    "# Features auswählen\n",
    "features = ['Einwohner_pro_Quadratkilometer','Einbruchdiebstahl_Total','Einschleichdiebstahl_Total']\n",
    "\n",
    "total_crime = df['Einbruchdiebstahl_Total'] + df['Einschleichdiebstahl_Total']\n",
    "df['Kriminalitätsrisiko'] = pd.cut(total_crime, bins=[-float(\"inf\"), 100, 500, float(\"inf\")], labels=[\"niedrig\", \"mittel\", \"hoch\"])\n",
    "\n",
    "print(df['Kriminalitätsrisiko'].value_counts())\n"
   ]
  },
  {
   "cell_type": "code",
   "execution_count": 2,
   "metadata": {},
   "outputs": [
    {
     "name": "stdout",
     "output_type": "stream",
     "text": [
      "Epoch 1/10\n",
      "42/42 [==============================] - 0s 3ms/step - loss: 1.5241 - val_loss: 0.4081\n",
      "Epoch 2/10\n",
      "42/42 [==============================] - 0s 863us/step - loss: 0.1869 - val_loss: 0.1202\n",
      "Epoch 3/10\n",
      "42/42 [==============================] - 0s 788us/step - loss: 0.0889 - val_loss: 0.1037\n",
      "Epoch 4/10\n",
      "42/42 [==============================] - 0s 764us/step - loss: 0.0814 - val_loss: 0.0986\n",
      "Epoch 5/10\n",
      "42/42 [==============================] - 0s 758us/step - loss: 0.0787 - val_loss: 0.0976\n",
      "Epoch 6/10\n",
      "42/42 [==============================] - 0s 768us/step - loss: 0.0783 - val_loss: 0.1003\n",
      "Epoch 7/10\n",
      "42/42 [==============================] - 0s 785us/step - loss: 0.0790 - val_loss: 0.0977\n",
      "Epoch 8/10\n",
      "42/42 [==============================] - 0s 760us/step - loss: 0.0774 - val_loss: 0.1033\n",
      "Epoch 9/10\n",
      "42/42 [==============================] - 0s 761us/step - loss: 0.0781 - val_loss: 0.1100\n",
      "Epoch 10/10\n",
      "42/42 [==============================] - 0s 753us/step - loss: 0.0819 - val_loss: 0.0989\n",
      "13/13 [==============================] - 0s 415us/step\n",
      "13/13 [==============================] - 0s 438us/step - loss: 2.8532\n",
      "Test Loss: 2.8532321453094482\n",
      "Test Accuracy: 0.007281553398058253\n",
      "Mean Squared Error (MSE): 0.0952756815669026\n"
     ]
    }
   ],
   "source": [
    "\n",
    "sequence_length = 3\n",
    "sequences = []\n",
    "targets = []\n",
    "\n",
    "for i in range(len(df) - sequence_length):\n",
    "    sequence = df[features].iloc[i:i+sequence_length].values\n",
    "    target = df['Kriminalitätsrisiko'].iloc[i+sequence_length]\n",
    "    sequences.append(sequence)\n",
    "    targets.append(target)\n",
    "\n",
    "# Feature-Skalierung für jede Dimension separat durchführen\n",
    "scalers = [MinMaxScaler() for _ in range(len(features))]\n",
    "sequences_scaled = []\n",
    "\n",
    "for i, scaler in enumerate(scalers):\n",
    "    feature_values = [sequence[:, i] for sequence in sequences]\n",
    "    feature_values_scaled = scaler.fit_transform(feature_values)\n",
    "    sequences_scaled.append(feature_values_scaled)\n",
    "\n",
    "X = np.array(sequences_scaled).transpose(1, 2, 0)\n",
    "y = np.array(targets)\n",
    "X_train, X_test, y_train, y_test = train_test_split(X, y, test_size=0.2, random_state=42)\n",
    "\n",
    "model = Sequential([\n",
    "    SimpleRNN(64, input_shape=(X_train.shape[1], X_train.shape[2])),\n",
    "    Dense(1)  \n",
    "])\n",
    "\n",
    "label_encoder = LabelEncoder()\n",
    "y_train_encoded = label_encoder.fit_transform(y_train)\n",
    "\n",
    "model = Sequential([\n",
    "    SimpleRNN(64, input_shape=(X_train.shape[1], X_train.shape[2])),\n",
    "    Dense(1)\n",
    "])\n",
    "\n",
    "model.compile(optimizer='adam', loss='mse')  # Mean Squared Error als Verlustfunktion\n",
    "history = model.fit(X_train, y_train_encoded, epochs=10, batch_size=32, validation_split=0.2)#\n",
    "\n",
    "y_test_encoded = label_encoder.transform(y_test)\n",
    "y_train_categorical = to_categorical(y_train_encoded)\n",
    "y_test_categorical = to_categorical(y_test_encoded)\n",
    "predictions = model.predict(X_test)\n",
    "y_test_numeric = label_encoder.transform(y_test)\n",
    "\n",
    "test_loss = model.evaluate(X_test, y_test_categorical)\n",
    "print(\"Test Loss:\", test_loss)\n",
    "accuracy = np.sum(np.argmax(predictions, axis=1) == y_test_numeric) / len(y_test_numeric)\n",
    "print(\"Test Accuracy:\", accuracy)\n",
    "mse = mean_squared_error(y_test_numeric, predictions)\n",
    "print(\"Mean Squared Error (MSE):\", mse)"
   ]
  },
  {
   "cell_type": "markdown",
   "metadata": {},
   "source": [
    "Ein niedrigerer Loss-Wert deutet darauf hin, dass das Modell besser in der Lage ist, die Testdaten vorherzusagen. In diesem Fall ist der Loss-Wert jedoch relativ hoch, was darauf hinweisen könnte, dass das Modell nicht so gut auf die Testdaten generalisiert, wie es auf den Trainingsdaten der Fall ist."
   ]
  },
  {
   "cell_type": "code",
   "execution_count": 3,
   "metadata": {},
   "outputs": [
    {
     "data": {
      "image/png": "[encoded data removed]",
      "text/plain": [
       "<Figure size 640x480 with 1 Axes>"
      ]
     },
     "metadata": {},
     "output_type": "display_data"
    }
   ],
   "source": [
    "plt.plot(history.history['loss'], label='Training Loss')\n",
    "plt.plot(history.history['val_loss'], label='Validation Loss')\n",
    "plt.title('Loss over Epochs')\n",
    "plt.xlabel('Epochs')\n",
    "plt.ylabel('Loss')\n",
    "plt.legend()\n",
    "plt.show()"
   ]
  },
  {
   "cell_type": "code",
   "execution_count": 4,
   "metadata": {},
   "outputs": [
    {
     "name": "stdout",
     "output_type": "stream",
     "text": [
      "Absolute_Kriminalitätsrate\n",
      "niedrig    1663\n",
      "mittel      373\n",
      "hoch         23\n",
      "Name: count, dtype: int64\n"
     ]
    }
   ],
   "source": [
    "# Definieren der Schwellenwerte für die absolute Anzahl der Verbrechen\n",
    "thresholds = [50, 500]\n",
    "\n",
    "def label_absolute_crime_rate(crime_count):\n",
    "    if crime_count < thresholds[0]:\n",
    "        return \"niedrig\"\n",
    "    elif thresholds[0] <= crime_count < thresholds[1]:\n",
    "        return \"mittel\"\n",
    "    else:\n",
    "        return \"hoch\"\n",
    "\n",
    "df['Absolute_Kriminalitätsrate'] = df['Einbruchdiebstahl_Total'] + df['Einschleichdiebstahl_Total']\n",
    "df['Absolute_Kriminalitätsrate'] = df['Absolute_Kriminalitätsrate'].apply(label_absolute_crime_rate)\n",
    "\n",
    "print(df['Absolute_Kriminalitätsrate'].value_counts())\n"
   ]
  },
  {
   "cell_type": "code",
   "execution_count": 5,
   "metadata": {},
   "outputs": [
    {
     "name": "stdout",
     "output_type": "stream",
     "text": [
      "Epoch 1/10\n",
      "42/42 [==============================] - 0s 3ms/step - loss: 0.7673 - accuracy: 0.8023 - val_loss: 0.5799 - val_accuracy: 0.8176\n",
      "Epoch 2/10\n",
      "42/42 [==============================] - 0s 872us/step - loss: 0.5457 - accuracy: 0.8091 - val_loss: 0.5247 - val_accuracy: 0.8176\n",
      "Epoch 3/10\n",
      "42/42 [==============================] - 0s 815us/step - loss: 0.4997 - accuracy: 0.8129 - val_loss: 0.5051 - val_accuracy: 0.8207\n",
      "Epoch 4/10\n",
      "42/42 [==============================] - 0s 803us/step - loss: 0.4905 - accuracy: 0.8144 - val_loss: 0.5032 - val_accuracy: 0.8207\n",
      "Epoch 5/10\n",
      "42/42 [==============================] - 0s 792us/step - loss: 0.4882 - accuracy: 0.8152 - val_loss: 0.5015 - val_accuracy: 0.8207\n",
      "Epoch 6/10\n",
      "42/42 [==============================] - 0s 800us/step - loss: 0.4889 - accuracy: 0.8160 - val_loss: 0.5061 - val_accuracy: 0.8207\n",
      "Epoch 7/10\n",
      "42/42 [==============================] - 0s 799us/step - loss: 0.4863 - accuracy: 0.8122 - val_loss: 0.5055 - val_accuracy: 0.8237\n",
      "Epoch 8/10\n",
      "42/42 [==============================] - 0s 808us/step - loss: 0.4842 - accuracy: 0.8167 - val_loss: 0.5007 - val_accuracy: 0.8207\n",
      "Epoch 9/10\n",
      "42/42 [==============================] - 0s 796us/step - loss: 0.4890 - accuracy: 0.8144 - val_loss: 0.5021 - val_accuracy: 0.8176\n",
      "Epoch 10/10\n",
      "42/42 [==============================] - 0s 797us/step - loss: 0.4866 - accuracy: 0.8144 - val_loss: 0.4990 - val_accuracy: 0.8207\n"
     ]
    }
   ],
   "source": [
    "\n",
    "features = ['Einwohner_pro_Quadratkilometer', 'Einbruchdiebstahl_Total', 'Einschleichdiebstahl_Total']\n",
    "\n",
    "sequence_length = 3\n",
    "sequences = []\n",
    "targets = []\n",
    "\n",
    "for i in range(len(df) - sequence_length):\n",
    "    sequence = df[features].iloc[i:i+sequence_length].values\n",
    "    target = df['Absolute_Kriminalitätsrate'].iloc[i+sequence_length]\n",
    "    sequences.append(sequence)\n",
    "    targets.append(target)\n",
    "\n",
    "scalers = [MinMaxScaler() for _ in range(len(features))]\n",
    "sequences_scaled = []\n",
    "\n",
    "for i, scaler in enumerate(scalers):\n",
    "    feature_values = [sequence[:, i] for sequence in sequences]\n",
    "    feature_values_scaled = scaler.fit_transform(feature_values)\n",
    "    sequences_scaled.append(feature_values_scaled)\n",
    "\n",
    "X = np.array(sequences_scaled).transpose(1, 2, 0)\n",
    "y = np.array(targets)\n",
    "\n",
    "X_train, X_test, y_train, y_test = train_test_split(X, y, test_size=0.2, random_state=42)\n",
    "\n",
    "label_encoder = LabelEncoder()\n",
    "\n",
    "\n",
    "y_train_encoded = label_encoder.fit_transform(y_train)\n",
    "y_test_encoded = label_encoder.transform(y_test)\n",
    "\n",
    "y_train_categorical = to_categorical(y_train_encoded)\n",
    "y_test_categorical = to_categorical(y_test_encoded)\n",
    "\n",
    "model = Sequential([\n",
    "    SimpleRNN(64, input_shape=(X_train.shape[1], X_train.shape[2])),\n",
    "    Dense(3, activation='softmax')  # Output Layer für die Vorhersage mit Softmax-Aktivierungsfunktion\n",
    "])\n",
    "\n",
    "model.compile(optimizer='adam', loss='categorical_crossentropy', metrics=['accuracy'])  \n",
    "history2 = model.fit(X_train, y_train_categorical, epochs=10, batch_size=32, validation_split=0.2)"
   ]
  },
  {
   "cell_type": "code",
   "execution_count": 6,
   "metadata": {},
   "outputs": [
    {
     "name": "stdout",
     "output_type": "stream",
     "text": [
      "13/13 [==============================] - 0s 483us/step - loss: 0.5229 - accuracy: 0.7985\n",
      "13/13 [==============================] - 0s 535us/step\n",
      "Test Loss: [0.522890567779541, 0.7985436916351318]\n",
      "Test Accuracy: 0.7985436893203883\n",
      "Mean Squared Error (MSE): 0.21601941747572814\n"
     ]
    }
   ],
   "source": [
    "# Modell evaluieren\n",
    "test_loss = model.evaluate(X_test, y_test_categorical)\n",
    "predictions = model.predict(X_test)\n",
    "\n",
    "print(\"Test Loss:\", test_loss)\n",
    "accuracy = np.sum(np.argmax(predictions, axis=1) == np.argmax(y_test_categorical, axis=1)) / len(y_test_categorical)\n",
    "print(\"Test Accuracy:\", accuracy)\n",
    "mse = np.mean((np.argmax(predictions, axis=1) - np.argmax(y_test_categorical, axis=1))**2)\n",
    "print(\"Mean Squared Error (MSE):\", mse)\n"
   ]
  },
  {
   "cell_type": "markdown",
   "metadata": {},
   "source": [
    "Das Modell erreichte eine Testgenauigkeit von etwa 83.50% und einen mittleren quadratischen Fehler (MSE) von etwa 0.165.\n",
    "Die Testgenauigkeit ist hoch, und der MSE ist vergleichsweise niedrig, was darauf hinweist, dass das Modell gute Vorhersagen trifft und die Abweichung zwischen den Vorhersagen und den tatsächlichen Werten gering ist."
   ]
  },
  {
   "cell_type": "code",
   "execution_count": 7,
   "metadata": {},
   "outputs": [
    {
     "data": {
      "image/png": "[encoded data removed]",
      "text/plain": [
       "<Figure size 640x480 with 1 Axes>"
      ]
     },
     "metadata": {},
     "output_type": "display_data"
    }
   ],
   "source": [
    "plt.plot(history2.history['loss'], label='Training Loss')\n",
    "plt.plot(history2.history['val_loss'], label='Validation Loss')\n",
    "plt.title('Loss over Epochs')\n",
    "plt.xlabel('Epochs')\n",
    "plt.ylabel('Loss')\n",
    "plt.legend()\n",
    "plt.show()"
   ]
  },
  {
   "cell_type": "markdown",
   "metadata": {},
   "source": [
    "Kategorische Risikoraten (niedrig, mittel, hoch):\n",
    "Das Modell erreichte eine Testgenauigkeit von etwa 0.49% und einen mittleren quadratischen Fehler (MSE) von etwa 0.076. Die Testgenauigkeit ist sehr niedrig, und der MSE ist relativ hoch, was darauf hinweist, dass das Modell Schwierigkeiten hat, genaue Vorhersagen zu treffen.\n",
    "\n",
    "Absolute Kriminalitätsraten:\n",
    "Das Modell erreichte eine Testgenauigkeit von etwa 83.50% und einen MSE von etwa 0.165.\n",
    "Die Testgenauigkeit ist hoch, und der MSE ist niedriger im Vergleich zum ersten Modell, was darauf hindeutet, dass dieses Modell besser in der Lage ist, genaue Vorhersagen zu treffen."
   ]
  },
  {
   "cell_type": "markdown",
   "metadata": {},
   "source": [
    "Höhere Informationsdichte: Bei der Verwendung der absoluten Kriminalitätsrate als Zielvariable gibt es eine höhere Informationsdichte, da jede Beobachtung einen spezifischen numerischen Wert hat. Dies ermöglicht es dem Modell, feinere Unterschiede zwischen den Datenpunkten zu erfassen und genauere Vorhersagen zu treffen.\n",
    "\n",
    "Bessere Passung der Modellkomplexität: Wenn die Zielvariable kontinuierlich ist, kann das Modell besser auf die Daten passen, insbesondere wenn die tatsächlichen Beziehungen zwischen den Eingangsvariablen und der Zielvariable kontinuierlich sind. Kategorische Variablen können die Komplexität des Modells erhöhen, da das Modell versuchen muss, diskrete Kategorien zuzuordnen, was zu einem erhöhten Generalisierungsfehler führen kann.\n",
    "\n",
    "Vermeidung von Informationsverlust: Bei der Kategorisierung der Kriminalitätsrate gehen möglicherweise Informationen verloren, da die Kontinuität der Daten nicht vollständig berücksichtigt wird. Dies kann zu einem Informationsverlust führen, der sich negativ auf die Leistung des Modells auswirken kann."
   ]
  }
 ],
 "metadata": {
  "kernelspec": {
   "display_name": "adsenv",
   "language": "python",
   "name": "python3"
  },
  "language_info": {
   "codemirror_mode": {
    "name": "ipython",
    "version": 3
   },
   "file_extension": ".py",
   "mimetype": "text/x-python",
   "name": "python",
   "nbconvert_exporter": "python",
   "pygments_lexer": "ipython3",
   "version": "3.11.7"
  }
 },
 "nbformat": 4,
 "nbformat_minor": 2
}
